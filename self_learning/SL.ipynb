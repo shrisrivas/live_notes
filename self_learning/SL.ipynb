{
 "cells": [
  {
   "cell_type": "code",
   "execution_count": 5,
   "id": "1dff2726",
   "metadata": {},
   "outputs": [
    {
     "name": "stdout",
     "output_type": "stream",
     "text": [
      "enter a number4.4\n",
      "enter int value only\n",
      "enter non zero value\n"
     ]
    }
   ],
   "source": [
    "try:\n",
    "    a=int(input(\"enter a number\"))\n",
    "    b=int(input(\"enter a number\"))\n",
    "except:\n",
    "    print(\"enter int value only\")\n",
    "try:\n",
    "    c=a/b\n",
    "except:\n",
    "    print(\"enter non zero value\")"
   ]
  },
  {
   "cell_type": "code",
   "execution_count": null,
   "id": "d626fb84",
   "metadata": {},
   "outputs": [],
   "source": [
    "while True:\n",
    "    try:\n",
    "        a=int(input(\"first number:\"))\n",
    "        b=int(input(\"second number:\"))\n",
    "        if a<0 or b<0: \n",
    "            raise Exception(\"neg number note allowd\")\n",
    "        c=a/b\n",
    "        print(\"div is\", c)\n",
    "        break\n",
    "    except ValueError:\n",
    "        print(\"please enter int only\")\n",
    "    except ZeroDivisionError:\n",
    "        print(\"please enter non zero denomitor\")\n",
    "    except Exception as e:\n",
    "        print(e)"
   ]
  },
  {
   "cell_type": "code",
   "execution_count": 1,
   "id": "e773d0aa",
   "metadata": {},
   "outputs": [],
   "source": [
    "l=[2,3,4,5,1]"
   ]
  },
  {
   "cell_type": "code",
   "execution_count": 2,
   "id": "163632f6",
   "metadata": {},
   "outputs": [
    {
     "data": {
      "text/plain": [
       "[2, 3, 4, 5, 1]"
      ]
     },
     "execution_count": 2,
     "metadata": {},
     "output_type": "execute_result"
    }
   ],
   "source": [
    "l"
   ]
  },
  {
   "cell_type": "code",
   "execution_count": 4,
   "id": "6a61f3bf",
   "metadata": {},
   "outputs": [],
   "source": [
    "y=map(lambda x:str(x),l)"
   ]
  },
  {
   "cell_type": "code",
   "execution_count": 5,
   "id": "50c2ddea",
   "metadata": {},
   "outputs": [
    {
     "data": {
      "text/plain": [
       "<map at 0x1d753ac5670>"
      ]
     },
     "execution_count": 5,
     "metadata": {},
     "output_type": "execute_result"
    }
   ],
   "source": [
    "y"
   ]
  },
  {
   "cell_type": "code",
   "execution_count": 6,
   "id": "25d718ae",
   "metadata": {},
   "outputs": [
    {
     "data": {
      "text/plain": [
       "['2', '3', '4', '5', '1']"
      ]
     },
     "execution_count": 6,
     "metadata": {},
     "output_type": "execute_result"
    }
   ],
   "source": [
    "list(y)"
   ]
  },
  {
   "cell_type": "code",
   "execution_count": null,
   "id": "bbc52284",
   "metadata": {},
   "outputs": [],
   "source": []
  }
 ],
 "metadata": {
  "kernelspec": {
   "display_name": "Python 3 (ipykernel)",
   "language": "python",
   "name": "python3"
  },
  "language_info": {
   "codemirror_mode": {
    "name": "ipython",
    "version": 3
   },
   "file_extension": ".py",
   "mimetype": "text/x-python",
   "name": "python",
   "nbconvert_exporter": "python",
   "pygments_lexer": "ipython3",
   "version": "3.10.5"
  }
 },
 "nbformat": 4,
 "nbformat_minor": 5
}
